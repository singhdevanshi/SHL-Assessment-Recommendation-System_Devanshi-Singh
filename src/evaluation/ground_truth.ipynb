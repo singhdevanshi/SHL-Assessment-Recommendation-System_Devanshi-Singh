{
 "cells": [
  {
   "cell_type": "code",
   "execution_count": 1,
   "id": "93590c41",
   "metadata": {},
   "outputs": [
    {
     "name": "stdout",
     "output_type": "stream",
     "text": [
      "Ground truth data has been saved to 'ground_truth.json'\n"
     ]
    }
   ],
   "source": [
    "import pandas as pd\n",
    "import json\n",
    "\n",
    "# Load the cleaned CSV data\n",
    "df = pd.read_csv('test.csv')\n",
    "\n",
    "# Prepare the data as a list of dictionaries\n",
    "ground_truth_data = []\n",
    "\n",
    "for index, row in df.iterrows():\n",
    "    ground_truth_data.append({\n",
    "        'query': row['Name'],  # The product name as the query\n",
    "        'ground_truth_urls': [row['URL']]  # The corresponding URL(s)\n",
    "    })\n",
    "\n",
    "# Save the data to a JSON file\n",
    "with open('ground_truth.json', 'w') as json_file:\n",
    "    json.dump(ground_truth_data, json_file, indent=4)\n",
    "\n",
    "print(\"Ground truth data has been saved to 'ground_truth.json'\")"
   ]
  },
  {
   "cell_type": "code",
   "execution_count": null,
   "id": "bd3dadde",
   "metadata": {},
   "outputs": [],
   "source": []
  }
 ],
 "metadata": {
  "kernelspec": {
   "display_name": "Python 3",
   "language": "python",
   "name": "python3"
  },
  "language_info": {
   "codemirror_mode": {
    "name": "ipython",
    "version": 3
   },
   "file_extension": ".py",
   "mimetype": "text/x-python",
   "name": "python",
   "nbconvert_exporter": "python",
   "pygments_lexer": "ipython3",
   "version": "3.11.9"
  }
 },
 "nbformat": 4,
 "nbformat_minor": 5
}
