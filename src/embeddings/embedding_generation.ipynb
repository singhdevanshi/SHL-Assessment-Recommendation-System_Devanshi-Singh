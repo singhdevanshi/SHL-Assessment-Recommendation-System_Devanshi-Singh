{
 "cells": [
  {
   "cell_type": "code",
   "execution_count": 2,
   "id": "ecca6415",
   "metadata": {},
   "outputs": [
    {
     "name": "stdout",
     "output_type": "stream",
     "text": [
      "WARNING:tensorflow:From c:\\Users\\devanshi\\AppData\\Local\\Programs\\Python\\Python311\\Lib\\site-packages\\keras\\src\\losses.py:2976: The name tf.losses.sparse_softmax_cross_entropy is deprecated. Please use tf.compat.v1.losses.sparse_softmax_cross_entropy instead.\n",
      "\n"
     ]
    }
   ],
   "source": [
    "from sentence_transformers import SentenceTransformer\n",
    "import pandas as pd\n",
    "import numpy as np"
   ]
  },
  {
   "cell_type": "code",
   "execution_count": 4,
   "id": "c7198ef6",
   "metadata": {},
   "outputs": [
    {
     "data": {
      "text/html": [
       "<div>\n",
       "<style scoped>\n",
       "    .dataframe tbody tr th:only-of-type {\n",
       "        vertical-align: middle;\n",
       "    }\n",
       "\n",
       "    .dataframe tbody tr th {\n",
       "        vertical-align: top;\n",
       "    }\n",
       "\n",
       "    .dataframe thead th {\n",
       "        text-align: right;\n",
       "    }\n",
       "</style>\n",
       "<table border=\"1\" class=\"dataframe\">\n",
       "  <thead>\n",
       "    <tr style=\"text-align: right;\">\n",
       "      <th></th>\n",
       "      <th>Name</th>\n",
       "      <th>URL</th>\n",
       "      <th>Duration (mins)</th>\n",
       "      <th>Remote Testing Support</th>\n",
       "      <th>Adaptive/IRT Support</th>\n",
       "      <th>Test Types</th>\n",
       "      <th>text_for_embedding</th>\n",
       "    </tr>\n",
       "  </thead>\n",
       "  <tbody>\n",
       "    <tr>\n",
       "      <th>0</th>\n",
       "      <td>account manager solution</td>\n",
       "      <td>https://www.shl.com/products/product-catalog/v...</td>\n",
       "      <td>49.0</td>\n",
       "      <td>yes</td>\n",
       "      <td>yes</td>\n",
       "      <td>c p a b</td>\n",
       "      <td>account manager solution</td>\n",
       "    </tr>\n",
       "    <tr>\n",
       "      <th>1</th>\n",
       "      <td>administrative professional  short form</td>\n",
       "      <td>https://www.shl.com/products/product-catalog/v...</td>\n",
       "      <td>36.0</td>\n",
       "      <td>yes</td>\n",
       "      <td>yes</td>\n",
       "      <td>a k p</td>\n",
       "      <td>administrative professional  short form</td>\n",
       "    </tr>\n",
       "    <tr>\n",
       "      <th>2</th>\n",
       "      <td>agency manager solution</td>\n",
       "      <td>https://www.shl.com/products/product-catalog/v...</td>\n",
       "      <td>51.0</td>\n",
       "      <td>yes</td>\n",
       "      <td>yes</td>\n",
       "      <td>a b p s</td>\n",
       "      <td>agency manager solution</td>\n",
       "    </tr>\n",
       "    <tr>\n",
       "      <th>3</th>\n",
       "      <td>apprentice  80 job focused assessment</td>\n",
       "      <td>https://www.shl.com/products/product-catalog/v...</td>\n",
       "      <td>30.0</td>\n",
       "      <td>yes</td>\n",
       "      <td>no</td>\n",
       "      <td>b p</td>\n",
       "      <td>apprentice  80 job focused assessment</td>\n",
       "    </tr>\n",
       "    <tr>\n",
       "      <th>4</th>\n",
       "      <td>apprentice 80 job focused assessment</td>\n",
       "      <td>https://www.shl.com/products/product-catalog/v...</td>\n",
       "      <td>20.0</td>\n",
       "      <td>yes</td>\n",
       "      <td>no</td>\n",
       "      <td>b p</td>\n",
       "      <td>apprentice 80 job focused assessment</td>\n",
       "    </tr>\n",
       "  </tbody>\n",
       "</table>\n",
       "</div>"
      ],
      "text/plain": [
       "                                      Name  \\\n",
       "0                 account manager solution   \n",
       "1  administrative professional  short form   \n",
       "2                  agency manager solution   \n",
       "3    apprentice  80 job focused assessment   \n",
       "4     apprentice 80 job focused assessment   \n",
       "\n",
       "                                                 URL Duration (mins)  \\\n",
       "0  https://www.shl.com/products/product-catalog/v...            49.0   \n",
       "1  https://www.shl.com/products/product-catalog/v...            36.0   \n",
       "2  https://www.shl.com/products/product-catalog/v...            51.0   \n",
       "3  https://www.shl.com/products/product-catalog/v...            30.0   \n",
       "4  https://www.shl.com/products/product-catalog/v...            20.0   \n",
       "\n",
       "  Remote Testing Support Adaptive/IRT Support Test Types  \\\n",
       "0                    yes                  yes    c p a b   \n",
       "1                    yes                  yes      a k p   \n",
       "2                    yes                  yes    a b p s   \n",
       "3                    yes                   no        b p   \n",
       "4                    yes                   no        b p   \n",
       "\n",
       "                        text_for_embedding  \n",
       "0                 account manager solution  \n",
       "1  administrative professional  short form  \n",
       "2                  agency manager solution  \n",
       "3    apprentice  80 job focused assessment  \n",
       "4     apprentice 80 job focused assessment  "
      ]
     },
     "execution_count": 4,
     "metadata": {},
     "output_type": "execute_result"
    }
   ],
   "source": [
    "data = pd.read_csv('C:/Users/devanshi/SHL-Assessment-Recommendation-System_Devanshi-Singh/data/processed/shl_product_catalog_ready_for_embedding.csv')\n",
    "data.head()"
   ]
  },
  {
   "cell_type": "code",
   "execution_count": 5,
   "id": "f4ec45b3",
   "metadata": {},
   "outputs": [],
   "source": [
    "model = SentenceTransformer('all-MiniLM-L6-v2')"
   ]
  },
  {
   "cell_type": "code",
   "execution_count": 6,
   "id": "504a4239",
   "metadata": {},
   "outputs": [
    {
     "data": {
      "application/vnd.jupyter.widget-view+json": {
       "model_id": "9067e11385474b539b6299ee566b1b02",
       "version_major": 2,
       "version_minor": 0
      },
      "text/plain": [
       "Batches:   0%|          | 0/1 [00:00<?, ?it/s]"
      ]
     },
     "metadata": {},
     "output_type": "display_data"
    }
   ],
   "source": [
    "# Generate embeddings\n",
    "texts = data['Name'].fillna(\"\").tolist()\n",
    "embeddings = model.encode(texts, show_progress_bar=True)"
   ]
  },
  {
   "cell_type": "code",
   "execution_count": 8,
   "id": "531a8601",
   "metadata": {},
   "outputs": [],
   "source": [
    "# Save embeddings as a numpy array\n",
    "np.save('C:/Users/devanshi/SHL-Assessment-Recommendation-System_Devanshi-Singh/data/embeddings/shl_name_embeddings.npy', embeddings)"
   ]
  }
 ],
 "metadata": {
  "kernelspec": {
   "display_name": "Python 3",
   "language": "python",
   "name": "python3"
  },
  "language_info": {
   "codemirror_mode": {
    "name": "ipython",
    "version": 3
   },
   "file_extension": ".py",
   "mimetype": "text/x-python",
   "name": "python",
   "nbconvert_exporter": "python",
   "pygments_lexer": "ipython3",
   "version": "3.11.9"
  }
 },
 "nbformat": 4,
 "nbformat_minor": 5
}
