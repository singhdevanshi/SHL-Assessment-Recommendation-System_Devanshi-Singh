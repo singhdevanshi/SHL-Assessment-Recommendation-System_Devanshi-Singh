{
 "cells": [
  {
   "cell_type": "code",
   "execution_count": 3,
   "id": "fa3972de",
   "metadata": {},
   "outputs": [
    {
     "name": "stdout",
     "output_type": "stream",
     "text": [
      "                                       Name  \\\n",
      "0                  Account Manager Solution   \n",
      "1  Administrative Professional - Short Form   \n",
      "2                   Agency Manager Solution   \n",
      "3   Apprentice + 8.0 Job Focused Assessment   \n",
      "4     Apprentice 8.0 Job Focused Assessment   \n",
      "\n",
      "                                                 URL  Duration (mins)  \\\n",
      "0  https://www.shl.com/products/product-catalog/v...             49.0   \n",
      "1  https://www.shl.com/products/product-catalog/v...             36.0   \n",
      "2  https://www.shl.com/products/product-catalog/v...             51.0   \n",
      "3  https://www.shl.com/products/product-catalog/v...             30.0   \n",
      "4  https://www.shl.com/products/product-catalog/v...             20.0   \n",
      "\n",
      "  Remote Testing Support Adaptive/IRT Support  Test Types  \n",
      "0                    Yes                  Yes  C, P, A, B  \n",
      "1                    Yes                  Yes     A, K, P  \n",
      "2                    Yes                  Yes  A, B, P, S  \n",
      "3                    Yes                   No        B, P  \n",
      "4                    Yes                   No        B, P  \n"
     ]
    }
   ],
   "source": [
    "import pandas as pd\n",
    "data = pd.read_csv('C:/Users/devanshi/SHL-Assessment-Recommendation-System_Devanshi-Singh/data/raw/shl_product_catalog.csv')\n",
    "print(data.head())"
   ]
  },
  {
   "cell_type": "code",
   "execution_count": 4,
   "id": "659c8df9",
   "metadata": {},
   "outputs": [
    {
     "name": "stdout",
     "output_type": "stream",
     "text": [
      "Name                      0\n",
      "URL                       0\n",
      "Duration (mins)           1\n",
      "Remote Testing Support    0\n",
      "Adaptive/IRT Support      0\n",
      "Test Types                0\n",
      "dtype: int64\n"
     ]
    }
   ],
   "source": [
    "print(data.isnull().sum())"
   ]
  },
  {
   "cell_type": "code",
   "execution_count": 5,
   "id": "f4875c20",
   "metadata": {},
   "outputs": [],
   "source": [
    "data = data.fillna(\"Unknown\")"
   ]
  },
  {
   "cell_type": "code",
   "execution_count": 11,
   "id": "37a91021",
   "metadata": {},
   "outputs": [],
   "source": [
    "data['Name'] = data['Name'].str.lower().str.replace('[^a-zA-Z0-9\\s]', '', regex=True)\n",
    "data['Remote Testing Support'] = data['Remote Testing Support'].str.lower().str.replace('[^a-zA-Z0-9\\s]', '', regex=True)\n",
    "data['Adaptive/IRT Support'] = data['Adaptive/IRT Support'].str.lower().str.replace('[^a-zA-Z0-9\\s]', '', regex=True)\n",
    "data['Test Types'] = data['Test Types'].str.lower().str.replace('[^a-zA-Z0-9\\s]', '', regex=True)"
   ]
  },
  {
   "cell_type": "code",
   "execution_count": 12,
   "id": "f6706c62",
   "metadata": {},
   "outputs": [
    {
     "name": "stdout",
     "output_type": "stream",
     "text": [
      "                                      Name  \\\n",
      "0                 account manager solution   \n",
      "1  administrative professional  short form   \n",
      "2                  agency manager solution   \n",
      "3    apprentice  80 job focused assessment   \n",
      "4     apprentice 80 job focused assessment   \n",
      "\n",
      "                                                 URL Duration (mins)  \\\n",
      "0  https://www.shl.com/products/product-catalog/v...            49.0   \n",
      "1  https://www.shl.com/products/product-catalog/v...            36.0   \n",
      "2  https://www.shl.com/products/product-catalog/v...            51.0   \n",
      "3  https://www.shl.com/products/product-catalog/v...            30.0   \n",
      "4  https://www.shl.com/products/product-catalog/v...            20.0   \n",
      "\n",
      "  Remote Testing Support Adaptive/IRT Support Test Types  \n",
      "0                    yes                  yes    c p a b  \n",
      "1                    yes                  yes      a k p  \n",
      "2                    yes                  yes    a b p s  \n",
      "3                    yes                   no        b p  \n",
      "4                    yes                   no        b p  \n"
     ]
    }
   ],
   "source": [
    "print(data.head())"
   ]
  },
  {
   "cell_type": "code",
   "execution_count": 13,
   "id": "2d1f4ee7",
   "metadata": {},
   "outputs": [],
   "source": [
    "data.to_csv('shl_product_catalog_cleaned.csv', index=False)"
   ]
  }
 ],
 "metadata": {
  "kernelspec": {
   "display_name": "Python 3",
   "language": "python",
   "name": "python3"
  },
  "language_info": {
   "codemirror_mode": {
    "name": "ipython",
    "version": 3
   },
   "file_extension": ".py",
   "mimetype": "text/x-python",
   "name": "python",
   "nbconvert_exporter": "python",
   "pygments_lexer": "ipython3",
   "version": "3.11.9"
  }
 },
 "nbformat": 4,
 "nbformat_minor": 5
}
